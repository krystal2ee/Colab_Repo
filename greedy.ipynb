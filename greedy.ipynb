{
  "nbformat": 4,
  "nbformat_minor": 0,
  "metadata": {
    "colab": {
      "provenance": [],
      "authorship_tag": "ABX9TyM68o4yIs3bR8aVWBkzHlNC",
      "include_colab_link": true
    },
    "kernelspec": {
      "name": "python3",
      "display_name": "Python 3"
    },
    "language_info": {
      "name": "python"
    }
  },
  "cells": [
    {
      "cell_type": "markdown",
      "metadata": {
        "id": "view-in-github",
        "colab_type": "text"
      },
      "source": [
        "<a href=\"https://colab.research.google.com/github/krystal2ee/Colab_Repo/blob/main/greedy.ipynb\" target=\"_parent\"><img src=\"https://colab.research.google.com/assets/colab-badge.svg\" alt=\"Open In Colab\"/></a>"
      ]
    },
    {
      "cell_type": "code",
      "source": [
        "#이코테 p90\n",
        "#1. 거스름돈 알고리즘\n",
        "\n",
        "n = 800\n",
        "count =0\n",
        "coin_types = [500,100,50,10]\n",
        "\n",
        "for coin in coin_types:\n",
        "  count += n//coin\n",
        "  n %=coin\n",
        "\n",
        "print(count)\n"
      ],
      "metadata": {
        "id": "n4TfZm-qEhRB",
        "colab": {
          "base_uri": "https://localhost:8080/"
        },
        "outputId": "1739b4b6-0090-4566-8265-39421dfe8013"
      },
      "execution_count": 3,
      "outputs": [
        {
          "output_type": "stream",
          "name": "stdout",
          "text": [
            "4\n"
          ]
        }
      ]
    },
    {
      "cell_type": "code",
      "source": [
        "from ctypes import Array\n",
        "# 이코테 p92\n",
        "# 큰 수의 법칙\n",
        "\n",
        "n, m, k = map(int, input().split())\n",
        "print(n, m, k)\n",
        "\n",
        "data = list(map(int, input().split()))\n",
        "data.sort()\n",
        "print(data)\n",
        "\n",
        "\n",
        "\n",
        "\n",
        "\n",
        "\n",
        "\n"
      ],
      "metadata": {
        "colab": {
          "base_uri": "https://localhost:8080/"
        },
        "id": "m6RaLjuN3YAK",
        "outputId": "d608e441-3886-473f-cdb4-bf2a378b11c5"
      },
      "execution_count": 10,
      "outputs": [
        {
          "output_type": "stream",
          "name": "stdout",
          "text": [
            "5 8 3\n",
            "5 8 3\n",
            "2 4 5 4 6\n",
            "[2, 4, 4, 5, 6]\n"
          ]
        }
      ]
    },
    {
      "cell_type": "code",
      "source": [
        "\n",
        "# first = data[n-1]\n",
        "# second = data[n-2]\n",
        "\n",
        "# print(first)\n",
        "# print(second)\n",
        "# # arr 에서 제일 큰수 찾고, k번 더한다.\n",
        "# # 다음 큰수 찾고 k번 더하는데 총 m번 더한다.\n",
        "# result = 0\n",
        "# while True:\n",
        "#   for i in range(k):\n",
        "#     if m==0:\n",
        "#       break\n",
        "#     result +=first\n",
        "#     m -= 1\n",
        "#   if m == 0:\n",
        "#     break\n",
        "#   result += second\n",
        "#   m -= 1\n",
        "# print(result)"
      ],
      "metadata": {
        "colab": {
          "base_uri": "https://localhost:8080/"
        },
        "id": "hhOF_nMQORaf",
        "outputId": "dea0f67c-e402-411b-de54-b2dcd772dca3"
      },
      "execution_count": 5,
      "outputs": [
        {
          "output_type": "stream",
          "name": "stdout",
          "text": [
            "6\n",
            "5\n",
            "46\n"
          ]
        }
      ]
    },
    {
      "cell_type": "code",
      "source": [
        "#method 2\n",
        "print(first)\n",
        "print(second)\n",
        "\n",
        "count = int(m/(k+1))*k\n",
        "count += m % (k+1)\n",
        "\n",
        "result = 0\n",
        "result += (count)*first\n",
        "result+= (m-count)*second\n",
        "print(result)\n",
        "\n"
      ],
      "metadata": {
        "id": "WxRtBWTHSwb3",
        "colab": {
          "base_uri": "https://localhost:8080/"
        },
        "outputId": "f9abbb49-91a4-4dbb-8c53-3e384e7a2620"
      },
      "execution_count": 11,
      "outputs": [
        {
          "output_type": "stream",
          "name": "stdout",
          "text": [
            "6\n",
            "5\n",
            "46\n"
          ]
        }
      ]
    },
    {
      "cell_type": "code",
      "source": [],
      "metadata": {
        "id": "rCyGtAKFcqnv"
      },
      "execution_count": 2,
      "outputs": []
    }
  ]
}